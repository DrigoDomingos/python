{
 "cells": [
  {
   "cell_type": "markdown",
   "metadata": {},
   "source": [
    "# Porto Seguro - Porto Seguro’s Safe Driver Prediction"
   ]
  },
  {
   "cell_type": "markdown",
   "metadata": {},
   "source": [
    "Nothing ruins the thrill of buying a brand new car more quickly than seeing your new insurance bill. The sting’s even more painful when you know you’re a good driver. It doesn’t seem fair that you have to pay so much if you’ve been cautious on the road for years.\n",
    "\n",
    "Porto Seguro, one of Brazil’s largest auto and homeowner insurance companies, completely agrees. Inaccuracies in car insurance company’s claim predictions raise the cost of insurance for good drivers and reduce the price for bad ones.\n",
    "\n",
    "In this competition, you’re challenged to build a model that predicts the probability that a driver will initiate an auto insurance claim in the next year. While Porto Seguro has used machine learning for the past 20 years, they’re looking to Kaggle’s machine learning community to explore new, more powerful methods. A more accurate prediction will allow them to further tailor their prices, and hopefully make auto insurance coverage more accessible to more drivers. \n"
   ]
  },
  {
   "cell_type": "markdown",
   "metadata": {},
   "source": [
    "## Exploring the Data\n"
   ]
  },
  {
   "cell_type": "code",
   "execution_count": 1,
   "metadata": {},
   "outputs": [
    {
     "name": "stdout",
     "output_type": "stream",
     "text": [
      "data loaded!\n"
     ]
    }
   ],
   "source": [
    "# Import libraries\n",
    "import numpy as np\n",
    "import pandas as pd\n",
    "from time import time\n",
    "from sklearn.metrics import f1_score\n",
    "\n",
    "# Read student data\n",
    "train = pd.read_csv(\"input/train.csv\")\n",
    "test = pd.read_csv(\"input/test.csv\")\n",
    "submission = pd.read_csv(\"output/sample_submission.csv\")\n",
    "print (\"data loaded!\")"
   ]
  },
  {
   "cell_type": "markdown",
   "metadata": {},
   "source": [
    "### Implementation: Data Exploration\n",
    "Let's begin by investigating the dataset to determine how many students we have information on, and learn about the graduation rate among these students. In the code cell below, you will need to compute the following:\n",
    "- The total number of students, `n_students`.\n",
    "- The total number of features for each student, `n_features`.\n",
    "- The number of those students who passed, `n_passed`.\n",
    "- The number of those students who failed, `n_failed`.\n",
    "- The graduation rate of the class, `grad_rate`, in percent (%).\n"
   ]
  },
  {
   "cell_type": "code",
   "execution_count": 2,
   "metadata": {},
   "outputs": [
    {
     "name": "stdout",
     "output_type": "stream",
     "text": [
      "Total de linhas: 595212\n",
      "Total de features: 59\n",
      "Qu(antidade de nao ocorrencia: 573518\n",
      "Quantidade de ocorrencia: 21694\n",
      "Percentual: 3.64%\n"
     ]
    }
   ],
   "source": [
    "\n",
    "train['output'] = train['target']\n",
    "\n",
    "\n",
    "# TODO: Calculate number of students\n",
    "n_rows = train.shape[0]\n",
    "\n",
    "# TODO: Calculate number of features\n",
    "n_features = train.shape[1]-1\n",
    "\n",
    "# TODO: Calculate passing students\n",
    "n_nao = (train.loc[train['target'] == 0]).shape[0]\n",
    "\n",
    "# TODO: Calculate failing students\n",
    "n_sim = (train.loc[train['target'] == 1]).shape[0]\n",
    "\n",
    "# TODO: Calculate graduation rate\n",
    "rate = (float(n_sim) / float(n_rows))* 100\n",
    "\n",
    "# Print the results\n",
    "print (\"Total de linhas: {}\".format(n_rows))\n",
    "print (\"Total de features: {}\".format(n_features))\n",
    "print (\"Qu(antidade de nao ocorrencia: {}\".format(n_nao))\n",
    "print (\"Quantidade de ocorrencia: {}\".format(n_sim))\n",
    "print (\"Percentual: {:.2f}%\".format(rate))"
   ]
  },
  {
   "cell_type": "markdown",
   "metadata": {},
   "source": [
    "## Preparing the Data\n",
    "Unbaleced data can be an issue\n",
    "\n",
    "### Identify feature and target columns\n"
   ]
  },
  {
   "cell_type": "code",
   "execution_count": 3,
   "metadata": {},
   "outputs": [
    {
     "name": "stdout",
     "output_type": "stream",
     "text": [
      "Feature columns:\n",
      "['id', 'target', 'ps_ind_01', 'ps_ind_02_cat', 'ps_ind_03', 'ps_ind_04_cat', 'ps_ind_05_cat', 'ps_ind_06_bin', 'ps_ind_07_bin', 'ps_ind_08_bin', 'ps_ind_09_bin', 'ps_ind_10_bin', 'ps_ind_11_bin', 'ps_ind_12_bin', 'ps_ind_13_bin', 'ps_ind_14', 'ps_ind_15', 'ps_ind_16_bin', 'ps_ind_17_bin', 'ps_ind_18_bin', 'ps_reg_01', 'ps_reg_02', 'ps_reg_03', 'ps_car_01_cat', 'ps_car_02_cat', 'ps_car_03_cat', 'ps_car_04_cat', 'ps_car_05_cat', 'ps_car_06_cat', 'ps_car_07_cat', 'ps_car_08_cat', 'ps_car_09_cat', 'ps_car_10_cat', 'ps_car_11_cat', 'ps_car_11', 'ps_car_12', 'ps_car_13', 'ps_car_14', 'ps_car_15', 'ps_calc_01', 'ps_calc_02', 'ps_calc_03', 'ps_calc_04', 'ps_calc_05', 'ps_calc_06', 'ps_calc_07', 'ps_calc_08', 'ps_calc_09', 'ps_calc_10', 'ps_calc_11', 'ps_calc_12', 'ps_calc_13', 'ps_calc_14', 'ps_calc_15_bin', 'ps_calc_16_bin', 'ps_calc_17_bin', 'ps_calc_18_bin', 'ps_calc_19_bin', 'ps_calc_20_bin']\n",
      "\n",
      "Target column: output\n",
      "\n",
      "Feature values:\n",
      "   id  target  ps_ind_01  ps_ind_02_cat  ps_ind_03  ps_ind_04_cat  \\\n",
      "0   7       0          2              2          5              1   \n",
      "1   9       0          1              1          7              0   \n",
      "2  13       0          5              4          9              1   \n",
      "3  16       0          0              1          2              0   \n",
      "4  17       0          0              2          0              1   \n",
      "\n",
      "   ps_ind_05_cat  ps_ind_06_bin  ps_ind_07_bin  ps_ind_08_bin       ...        \\\n",
      "0              0              0              1              0       ...         \n",
      "1              0              0              0              1       ...         \n",
      "2              0              0              0              1       ...         \n",
      "3              0              1              0              0       ...         \n",
      "4              0              1              0              0       ...         \n",
      "\n",
      "   ps_calc_11  ps_calc_12  ps_calc_13  ps_calc_14  ps_calc_15_bin  \\\n",
      "0           9           1           5           8               0   \n",
      "1           3           1           1           9               0   \n",
      "2           4           2           7           7               0   \n",
      "3           2           2           4           9               0   \n",
      "4           3           1           1           3               0   \n",
      "\n",
      "   ps_calc_16_bin  ps_calc_17_bin  ps_calc_18_bin  ps_calc_19_bin  \\\n",
      "0               1               1               0               0   \n",
      "1               1               1               0               1   \n",
      "2               1               1               0               1   \n",
      "3               0               0               0               0   \n",
      "4               0               0               1               1   \n",
      "\n",
      "   ps_calc_20_bin  \n",
      "0               1  \n",
      "1               0  \n",
      "2               0  \n",
      "3               0  \n",
      "4               0  \n",
      "\n",
      "[5 rows x 59 columns]\n",
      "                 id         target      ps_ind_01  ps_ind_02_cat  \\\n",
      "count  5.952120e+05  595212.000000  595212.000000  595212.000000   \n",
      "mean   7.438036e+05       0.036448       1.900378       1.358943   \n",
      "std    4.293678e+05       0.187401       1.983789       0.664594   \n",
      "min    7.000000e+00       0.000000       0.000000      -1.000000   \n",
      "25%    3.719915e+05       0.000000       0.000000       1.000000   \n",
      "50%    7.435475e+05       0.000000       1.000000       1.000000   \n",
      "75%    1.115549e+06       0.000000       3.000000       2.000000   \n",
      "max    1.488027e+06       1.000000       7.000000       4.000000   \n",
      "\n",
      "           ps_ind_03  ps_ind_04_cat  ps_ind_05_cat  ps_ind_06_bin  \\\n",
      "count  595212.000000  595212.000000  595212.000000  595212.000000   \n",
      "mean        4.423318       0.416794       0.405188       0.393742   \n",
      "std         2.699902       0.493311       1.350642       0.488579   \n",
      "min         0.000000      -1.000000      -1.000000       0.000000   \n",
      "25%         2.000000       0.000000       0.000000       0.000000   \n",
      "50%         4.000000       0.000000       0.000000       0.000000   \n",
      "75%         6.000000       1.000000       0.000000       1.000000   \n",
      "max        11.000000       1.000000       6.000000       1.000000   \n",
      "\n",
      "       ps_ind_07_bin  ps_ind_08_bin      ...           ps_calc_12  \\\n",
      "count  595212.000000  595212.000000      ...        595212.000000   \n",
      "mean        0.257033       0.163921      ...             1.441918   \n",
      "std         0.436998       0.370205      ...             1.202963   \n",
      "min         0.000000       0.000000      ...             0.000000   \n",
      "25%         0.000000       0.000000      ...             1.000000   \n",
      "50%         0.000000       0.000000      ...             1.000000   \n",
      "75%         1.000000       0.000000      ...             2.000000   \n",
      "max         1.000000       1.000000      ...            10.000000   \n",
      "\n",
      "          ps_calc_13     ps_calc_14  ps_calc_15_bin  ps_calc_16_bin  \\\n",
      "count  595212.000000  595212.000000   595212.000000   595212.000000   \n",
      "mean        2.872288       7.539026        0.122427        0.627840   \n",
      "std         1.694887       2.746652        0.327779        0.483381   \n",
      "min         0.000000       0.000000        0.000000        0.000000   \n",
      "25%         2.000000       6.000000        0.000000        0.000000   \n",
      "50%         3.000000       7.000000        0.000000        1.000000   \n",
      "75%         4.000000       9.000000        0.000000        1.000000   \n",
      "max        13.000000      23.000000        1.000000        1.000000   \n",
      "\n",
      "       ps_calc_17_bin  ps_calc_18_bin  ps_calc_19_bin  ps_calc_20_bin  \\\n",
      "count   595212.000000   595212.000000   595212.000000   595212.000000   \n",
      "mean         0.554182        0.287182        0.349024        0.153318   \n",
      "std          0.497056        0.452447        0.476662        0.360295   \n",
      "min          0.000000        0.000000        0.000000        0.000000   \n",
      "25%          0.000000        0.000000        0.000000        0.000000   \n",
      "50%          1.000000        0.000000        0.000000        0.000000   \n",
      "75%          1.000000        1.000000        1.000000        0.000000   \n",
      "max          1.000000        1.000000        1.000000        1.000000   \n",
      "\n",
      "              output  \n",
      "count  595212.000000  \n",
      "mean        0.036448  \n",
      "std         0.187401  \n",
      "min         0.000000  \n",
      "25%         0.000000  \n",
      "50%         0.000000  \n",
      "75%         0.000000  \n",
      "max         1.000000  \n",
      "\n",
      "[8 rows x 60 columns]\n"
     ]
    }
   ],
   "source": [
    "# Extract feature columns\n",
    "feature_cols = list(train.columns[:-1])\n",
    "\n",
    "# Extract target column 'passed'\n",
    "target_col = train.columns[-1] \n",
    "\n",
    "# Show the list of columns\n",
    "print (\"Feature columns:\\n{}\".format(feature_cols))\n",
    "print (\"\\nTarget column: {}\".format(target_col))\n",
    "\n",
    "# Separate the data into feature data and target data (X_all and y_all, respectively)\n",
    "X_all = train[feature_cols]\n",
    "y_all = train[target_col]\n",
    "\n",
    "# Show the feature information by printing the first five rows\n",
    "print (\"\\nFeature values:\")\n",
    "print (X_all.head())\n",
    "\n",
    "print(train.describe())"
   ]
  },
  {
   "cell_type": "markdown",
   "metadata": {},
   "source": [
    "### Preprocess Feature Columns\n",
    "\n"
   ]
  },
  {
   "cell_type": "code",
   "execution_count": 18,
   "metadata": {},
   "outputs": [
    {
     "name": "stdout",
     "output_type": "stream",
     "text": [
      "Processed feature columns ({} total features):\n",
      "{}\n"
     ]
    }
   ],
   "source": [
    "def preprocess_features(X):\n",
    "    ''' Preprocesses the student data and converts non-numeric binary variables into\n",
    "        binary (0/1) variables. Converts categorical variables into dummy variables. '''\n",
    "    \n",
    "    # Initialize new output DataFrame\n",
    "    output = pd.DataFrame(index = X.index)\n",
    "\n",
    "    # Investigate each feature column for the data\n",
    "    for col, col_data in X.iteritems():\n",
    "        \n",
    "        # If data type is non-numeric, replace all yes/no values with 1/0\n",
    "       # if col_data.dtype == object:\n",
    "        #    col_data = col_data.replace(['yes', 'no'], [1, 0])\n",
    "\n",
    "        # If data type is categorical, convert to dummy variables\n",
    "        if col_data.dtype == object:\n",
    "            # Example: 'school' => 'school_GP' and 'school_MS'\n",
    "            col_data = pd.get_dummies(col_data, prefix = col)  \n",
    "        \n",
    "        # Collect the revised columns\n",
    "        output = output.join(col_data)\n",
    "    \n",
    "    return output\n",
    "\n",
    "X_all = preprocess_features(X_all)\n",
    "print (\"Processed feature columns ({} total features):\\n{}\")"
   ]
  },
  {
   "cell_type": "markdown",
   "metadata": {},
   "source": [
    "### Implementation: Training and Testing Data Split\n",
    "So far, we have converted all _categorical_ features into numeric values. For the next step, we split the data (both features and corresponding labels) into training and test sets. In the following code cell below, you will need to implement the following:\n",
    "- Randomly shuffle and split the data (`X_all`, `y_all`) into training and testing subsets.\n",
    "  - Use 300 training points (approximately 75%) and 95 testing points (approximately 25%).\n",
    "  - Set a `random_state` for the function(s) you use, if provided.\n",
    "  - Store the results in `X_train`, `X_test`, `y_train`, and `y_test`."
   ]
  },
  {
   "cell_type": "code",
   "execution_count": 5,
   "metadata": {},
   "outputs": [
    {
     "name": "stdout",
     "output_type": "stream",
     "text": [
      "Training set has 476169 samples.\n",
      "Testing set has 119043 samples.\n"
     ]
    }
   ],
   "source": [
    "# TODO: Import any additional functionality you may need here\n",
    "from sklearn.model_selection import train_test_split\n",
    "\n",
    "# TODO: Set the number of training points\n",
    "#num_train = 300\n",
    "\n",
    "# Set the number of testing points\n",
    "#num_test = X_all.shape[0] - num_train\n",
    "\n",
    "# TODO: Shuffle and split the dataset into the number of training and testing points above\n",
    "\n",
    "X_train, X_test, y_train, y_test = train_test_split(X_all, y_all, test_size=0.2, random_state=42)\n",
    "\n",
    "#X_train = None\n",
    "#X_test = None\n",
    "#y_train = None\n",
    "#y_test = None\n",
    "\n",
    "# Show the results of the split\n",
    "print (\"Training set has {} samples.\".format(X_train.shape[0]))\n",
    "print (\"Testing set has {} samples.\".format(X_test.shape[0]))"
   ]
  },
  {
   "cell_type": "markdown",
   "metadata": {},
   "source": [
    "## Training and Evaluating Models\n",
    "In this section, you will choose 3 supervised learning models that are appropriate for this problem and available in `scikit-learn`. You will first discuss the reasoning behind choosing these three models by considering what you know about the data and each model's strengths and weaknesses. You will then fit the model to varying sizes of training data (100 data points, 200 data points, and 300 data points) and measure the F<sub>1</sub> score. You will need to produce three tables (one for each model) that shows the training set size, training time, prediction time, F<sub>1</sub> score on the training set, and F<sub>1</sub> score on the testing set.\n",
    "\n",
    "**The following supervised learning models are currently available in** [`scikit-learn`](http://scikit-learn.org/stable/supervised_learning.html) **that you may choose from:**\n",
    "- Gaussian Naive Bayes (GaussianNB)\n",
    "- Decision Trees\n",
    "- Ensemble Methods (Bagging, AdaBoost, Random Forest, Gradient Boosting)\n",
    "- K-Nearest Neighbors (KNeighbors)\n",
    "- Stochastic Gradient Descent (SGDC)\n",
    "- Support Vector Machines (SVM)\n",
    "- Logistic Regression"
   ]
  },
  {
   "cell_type": "markdown",
   "metadata": {},
   "source": [
    "### Question 2 - Model Application\n",
    "*List three supervised learning models that are appropriate for this problem. For each model chosen*\n",
    "- Describe one real-world application in industry where the model can be applied. *(You may need to do a small bit of research for this — give references!)* \n",
    "- What are the strengths of the model; when does it perform well? \n",
    "- What are the weaknesses of the model; when does it perform poorly?\n",
    "- What makes this model a good candidate for the problem, given what you know about the data?"
   ]
  },
  {
   "cell_type": "markdown",
   "metadata": {},
   "source": [
    "**Answer: **\n",
    "\n",
    "**1- Decision Trees:**\n",
    "\n",
    "1.1 - Based on my research I figured out lot of application related to recomendation systems, That sounds to be  the most comun application for Decision tree. I'd like to cite a facebook application to sugest groups for user to join, that is interesting because there's bilions of user and tons of groups out there, and without an Artificial Intelligence system like that discover and sugest groups that is interesting for user would be impossible.\n",
    "https://link.springer.com/chapter/10.1007%2F978-3-540-88875-8_41?LI=true\n",
    "\n",
    "\n",
    "1.2 - The Decision tree performs well when:\n",
    "Need to explain for business the features behaviors behind the model.\n",
    "Don't need or want spend too much time on Feature engineering.\n",
    "Need so support on feature selection - DT performs implicity selection.\n",
    "It performs well with huge amount of data and take more time to train and less to predict.\n",
    "\n",
    "1.3 - The disavantages of use the decision tree are:\n",
    "The model can overfit easily while create a very complex trees.\n",
    "Decision tree can be instable due to small variance in the data can modify drastically the trees.\n",
    "\n",
    "1.4 That is binary classification problem, so decision tree models fits well because it's easy to understand the feature behavior and support me on the feature selection (implicit performed).\n",
    " \n",
    "    \n",
    "        \n",
    "**2- Support Vector Machines (SVM)**\n",
    "\n",
    "\n",
    "2.1 -  I'd like to cite a use case from BMC Medical Informatics and Decision Making that used SVM in a research of comun diseases. The best results hit around 83.5% of accuracy classifying patients with or without diabetes.\n",
    "https://bmcmedinformdecismak.biomedcentral.com/articles/10.1186/1472-6947-10-16\n",
    "\n",
    "2.2 - The SVM is a powerfull regretion and classification model, that is usually used for classifcation purpose, the biggest benefit of using this model is the flexibility of the parameter tunning, specially the kernel trick that give a great possibility for the model increase the accuracy.\n",
    "\n",
    "2.3 - There's a limitation about the size and speed on both trainning and testing, it's recomended for small datasets, also applying the parameter tunning can create a very comple model, hard to interpret.\n",
    "\n",
    "2.4 - Given a small dataset that was provided and the binary classification problem, SVM seems to be a good candidate to analyse the performance, The main reason of choose this model also is the possibiliy of parameter tunning to encrease the performance and also test a model linearly separabe.\n",
    "\n",
    "\n",
    "**3- Ensemble Methods - Random Forest**\n",
    "\n",
    "3.1 - I found out some use cases including a heavy usage on Kaggle competitions. One that I'd like to cite here is a project to predict the crime in San Francisco - CA. They used random forest  and hit around 72.4% of accuracy against the average 67.1% of a single decision tree.\n",
    "https://algobeans.com/2016/08/25/random-forest-tutorial/\n",
    "\n",
    "\n",
    "3.2 - The Random forest is widely used due to the easy implementation, ability to avoid overfit while the user increase the number of tree looking for more accuracy. Another positive point about Random Forest ensemble method is the ability to handle unbalancing dataset and finally can be used for large datasets.\n",
    "\n",
    "3.3 - The training performance require a powerful hardware depending of the amount of parallel classifiers (Trees) you are training inside RF.\n",
    "\n",
    "3.4 - I'm considering to use this model in this project due to the possibilite to compare the ensemble method against a single decision tree, and this model according to the course and my research works well for a binary classification problem.\n",
    "\n",
    "\n",
    "\n"
   ]
  },
  {
   "cell_type": "markdown",
   "metadata": {},
   "source": [
    "### Setup\n",
    "Run the code cell below to initialize three helper functions which you can use for training and testing the three supervised learning models you've chosen above. The functions are as follows:\n",
    "- `train_classifier` - takes as input a classifier and training data and fits the classifier to the data.\n",
    "- `predict_labels` - takes as input a fit classifier, features, and a target labeling and makes predictions using the F<sub>1</sub> score.\n",
    "- `train_predict` - takes as input a classifier, and the training and testing data, and performs `train_clasifier` and `predict_labels`.\n",
    " - This function will report the F<sub>1</sub> score for both the training and testing data separately."
   ]
  },
  {
   "cell_type": "code",
   "execution_count": 14,
   "metadata": {},
   "outputs": [],
   "source": [
    "def train_classifier(clf, X_train, y_train):\n",
    "    ''' Fits a classifier to the training data. '''\n",
    "    \n",
    "    # Start the clock, train the classifier, then stop the clock\n",
    "    start = time()\n",
    "    clf.fit(X_train, y_train)\n",
    "    end = time()\n",
    "    \n",
    "    # Print the results\n",
    "    print (\"Trained model in {:.4f} seconds\".format(end - start))\n",
    "\n",
    "    \n",
    "def predict_labels(clf, features, target):\n",
    "    ''' Makes predictions using a fit classifier based on F1 score. '''\n",
    "    \n",
    "    # Start the clock, make predictions, then stop the clock\n",
    "    start = time()\n",
    "    y_pred = clf.predict(features)\n",
    "    end = time()\n",
    "    \n",
    "    # Print and return results\n",
    "    print (\"Made predictions in {:.4f} seconds.\".format(end - start))\n",
    "    return f1_score(target.values, y_pred, pos_label=1)\n",
    "\n",
    "\n",
    "def train_predict(clf, X_train, y_train, X_test, y_test):\n",
    "    ''' Train and predict using a classifer based on F1 score. '''\n",
    "    \n",
    "    # Indicate the classifier and the training set size\n",
    "    print (\"Training a {} using a training set size of {}. . .\".format(clf.__class__.__name__, len(X_train)))\n",
    "    \n",
    "    # Train the classifier\n",
    "    train_classifier(clf, X_train, y_train)\n",
    "    \n",
    "    # Print the results of prediction for bproth training and testing\n",
    "    print (\"F1 score for training set: {:.4f}.\".format(predict_labels(clf, X_train, y_train)))\n",
    "    print (\"F1 score for test set: {:.4f}.\".format(predict_labels(clf, X_test, y_test)))"
   ]
  },
  {
   "cell_type": "markdown",
   "metadata": {},
   "source": [
    "### Implementation: Model Performance Metrics\n",
    "With the predefined functions above, you will now import the three supervised learning models of your choice and run the `train_predict` function for each one. Remember that you will need to train and predict on each classifier for three different training set sizes: 100, 200, and 300. Hence, you should expect to have 9 different outputs below — 3 for each model using the varying training set sizes. In the following code cell, you will need to implement the following:\n",
    "- Import the three supervised learning models you've discussed in the previous section.\n",
    "- Initialize the three models and store them in `clf_A`, `clf_B`, and `clf_C`.\n",
    " - Use a `random_state` for each model you use, if provided.\n",
    " - **Note:** Use the default settings for each model — you will tune one specific model in a later section.\n",
    "- Create the different training set sizes to be used to train each model.\n",
    " - *Do not reshuffle and resplit the data! The new training points should be drawn from `X_train` and `y_train`.*\n",
    "- Fit each model with each training set size and make predictions on the test set (9 in total).  \n",
    "**Note:** Three tables are provided after the following code cell which can be used to store your results."
   ]
  },
  {
   "cell_type": "code",
   "execution_count": null,
   "metadata": {},
   "outputs": [
    {
     "name": "stdout",
     "output_type": "stream",
     "text": [
      "#################Decision tree#################\n",
      "Training a DecisionTreeClassifier using a training set size of 100. . .\n",
      "Trained model in 0.0013 seconds\n",
      "Made predictions in 0.0006 seconds.\n",
      "F1 score for training set: 1.0000.\n",
      "Made predictions in 0.1418 seconds.\n",
      "F1 score for test set: 1.0000.\n",
      "Training a DecisionTreeClassifier using a training set size of 200. . .\n",
      "Trained model in 0.0405 seconds\n",
      "Made predictions in 0.0008 seconds.\n",
      "F1 score for training set: 1.0000.\n",
      "Made predictions in 0.1176 seconds.\n",
      "F1 score for test set: 1.0000.\n",
      "Training a DecisionTreeClassifier using a training set size of 300. . .\n",
      "Trained model in 0.0034 seconds\n",
      "Made predictions in 0.0005 seconds.\n",
      "F1 score for training set: 1.0000.\n",
      "Made predictions in 0.1032 seconds.\n",
      "F1 score for test set: 1.0000.\n",
      "#################SVM#################\n",
      "Training a SVC using a training set size of 100. . .\n",
      "Trained model in 0.0070 seconds\n",
      "Made predictions in 0.0418 seconds.\n",
      "F1 score for training set: 1.0000.\n",
      "Made predictions in 2.4346 seconds.\n",
      "F1 score for test set: 0.0000.\n",
      "Training a SVC using a training set size of 200. . .\n",
      "Trained model in 0.0064 seconds\n",
      "Made predictions in 0.0050 seconds.\n",
      "F1 score for training set: 1.0000.\n"
     ]
    },
    {
     "name": "stderr",
     "output_type": "stream",
     "text": [
      "/home/rodrigo/anaconda3/lib/python3.6/site-packages/sklearn/metrics/classification.py:1135: UndefinedMetricWarning: F-score is ill-defined and being set to 0.0 due to no predicted samples.\n",
      "  'precision', 'predicted', average, warn_for)\n"
     ]
    },
    {
     "name": "stdout",
     "output_type": "stream",
     "text": [
      "Made predictions in 6.7070 seconds.\n",
      "F1 score for test set: 0.0000.\n",
      "Training a SVC using a training set size of 300. . .\n",
      "Trained model in 0.0393 seconds\n",
      "Made predictions in 0.0224 seconds.\n",
      "F1 score for training set: 1.0000.\n",
      "Made predictions in 7.2912 seconds.\n",
      "F1 score for test set: 0.0000.\n",
      "#################ENSEMBLE-RANDOM FOREST#################\n",
      "Training a RandomForestClassifier using a training set size of 100. . .\n",
      "Trained model in 0.0179 seconds\n",
      "Made predictions in 0.0015 seconds.\n",
      "F1 score for training set: 1.0000.\n",
      "Made predictions in 0.1330 seconds.\n",
      "F1 score for test set: 0.0091.\n",
      "Training a RandomForestClassifier using a training set size of 200. . .\n",
      "Trained model in 0.0493 seconds\n",
      "Made predictions in 0.0031 seconds.\n",
      "F1 score for training set: 1.0000.\n",
      "Made predictions in 0.6608 seconds.\n",
      "F1 score for test set: 0.1710.\n",
      "Training a RandomForestClassifier using a training set size of 300. . .\n",
      "Trained model in 0.0568 seconds\n",
      "Made predictions in 0.0037 seconds.\n",
      "F1 score for training set: 1.0000.\n",
      "Made predictions in 0.5632 seconds.\n",
      "F1 score for test set: 0.2235.\n",
      "#################Decision tree#################\n",
      "Training a DecisionTreeClassifier using a training set size of 476169. . .\n",
      "Trained model in 3.9112 seconds\n",
      "Made predictions in 0.4192 seconds.\n",
      "F1 score for training set: 1.0000.\n",
      "Made predictions in 0.0881 seconds.\n",
      "F1 score for test set: 1.0000.\n",
      "#################SVM#################\n",
      "Training a SVC using a training set size of 476169. . .\n"
     ]
    }
   ],
   "source": [
    "# TODO: Import the three supervised learning models from sklearn\n",
    "from sklearn import tree\n",
    "from sklearn import svm\n",
    "from sklearn.ensemble import RandomForestClassifier \n",
    "\n",
    "# TODO: Initialize the three models\n",
    "clf_A = tree.DecisionTreeClassifier(random_state=0)\n",
    "clf_B = svm.SVC(random_state=0)\n",
    "clf_C = RandomForestClassifier(random_state=0)\n",
    "\n",
    "\n",
    "print(\"#################Decision tree#################\")\n",
    "train_predict(clf_A, X_train, y_train, X_test, y_test)\n",
    "\n",
    "print(\"#################SVM#################\")\n",
    "train_predict(clf_B, X_train, y_train, X_test, y_test)\n",
    "\n",
    "print(\"#################ENSEMBLE-RANDOM FOREST#################\")\n",
    "train_predict(clf_C, X_train, y_train, X_test, y_test)\n",
    "\n"
   ]
  },
  {
   "cell_type": "markdown",
   "metadata": {},
   "source": [
    "### Tabular Results\n",
    "Edit the cell below to see how a table can be designed in [Markdown](https://github.com/adam-p/markdown-here/wiki/Markdown-Cheatsheet#tables). You can record your results from above in the tables provided."
   ]
  },
  {
   "cell_type": "markdown",
   "metadata": {},
   "source": [
    "** Classifer 1 - Decision tree**  \n",
    "\n",
    "| Training Set Size | Training Time           | Prediction Time (test) | F1 Score (train) | F1 Score (test) |\n",
    "| :---------------: | :---------------------: | :--------------------: | :--------------: | :-------------: |\n",
    "| 100               |    0.0000               |    0.0160              |   1.0000         |    0.6154       |\n",
    "| 200               |    0.0000               |    0.0000              |   1.0000         |    0.7040       |\n",
    "| 300               |    0.0010               |    0.0000              |   1.0000         |    0.6102       |\n",
    "\n",
    "** Classifer 2 - SVM**  \n",
    "\n",
    "| Training Set Size | Training Time           | Prediction Time (test) | F1 Score (train) | F1 Score (test) |\n",
    "| :---------------: | :---------------------: | :--------------------: | :--------------: | :-------------: |\n",
    "| 100               |     0.0160              |      0.0000            |    0.8777        |    0.7746       |\n",
    "| 200               |     0.0160              |      0.0060            |    0.8679        |    0.7815       |\n",
    "| 300               |     0.0150              |      0.0130            |    0.8761        |    0.7838       |\n",
    "\n",
    "** Classifer 3 - ENSEMBLE(RF)**  \n",
    "\n",
    "| Training Set Size | Training Time           | Prediction Time (test) | F1 Score (train) | F1 Score (test) |\n",
    "| :---------------: | :---------------------: | :--------------------: | :--------------: | :-------------: |\n",
    "| 100               |     0.0530              |     0.0150             |    0.9922        |     0.6614      |\n",
    "| 200               |     0.0690              |     0.0000             |    0.9964        |     0.7536      |\n",
    "| 300               |     0.0690              |     0.0000             |    0.9927        |     0.7407      |"
   ]
  },
  {
   "cell_type": "markdown",
   "metadata": {},
   "source": [
    "## Choosing the Best Model\n",
    "In this final section, you will choose from the three supervised learning models the *best* model to use on the student data. You will then perform a grid search optimization for the model over the entire training set (`X_train` and `y_train`) by tuning at least one parameter to improve upon the untuned model's F<sub>1</sub> score. "
   ]
  },
  {
   "cell_type": "markdown",
   "metadata": {},
   "source": [
    "### Question 3 - Choosing the Best Model\n",
    "*Based on the experiments you performed earlier, in one to two paragraphs, explain to the board of supervisors what single model you chose as the best model. Which model is generally the most appropriate based on the available data, limited resources, cost, and performance?*"
   ]
  },
  {
   "cell_type": "markdown",
   "metadata": {},
   "source": [
    "**Answer: ** SVM Classifier is the model that best fit this problem. In terms of Training and prediction time it's in middle position comparing to the other 2 models and in terms of test accuracy it hit around 0.7838, the best result comparing to DT and ENSEMBLE 0.7040 and 0.7536 respectively."
   ]
  },
  {
   "cell_type": "markdown",
   "metadata": {},
   "source": [
    "### Question 4 - Model in Layman's Terms\n",
    "*In one to two paragraphs, explain to the board of directors in layman's terms how the final model chosen is supposed to work. Be sure that you are describing the major qualities of the model, such as how the model is trained and how the model makes a prediction. Avoid using advanced mathematical or technical jargon, such as describing equations or discussing the algorithm implementation.*"
   ]
  },
  {
   "cell_type": "markdown",
   "metadata": {},
   "source": [
    "**Answer: ** Based on the historical information, the predictive model will identify the standard behavior behind  students that do not passed, based on this it will tag the currently students that are running into the same behaviors. \n",
    "\n",
    "The SVM model creates a decision boundary line considering all features available on the historical data trying to create a line that best separete the students that passed from the ones that not passed. The closest data points on both points(dark blue end dark red) represents the 'Support vectors' that is importante to support the contruction of the best line that should be as far as possible from the all data points.\n",
    "\n",
    "![nome_imagem.png](http://docs.opencv.org/2.4/_images/optimal-hyperplane.png)\n",
    "\n",
    "\n",
    "In the case where the data is not linearly separable,  there is a capability called 'kernel trick' that consist in turn the data into linearly separable data as showed below:\n",
    "![rotate.gif](http://blog.pluskid.org/wp-content/uploads/2010/09/rotate.gif)\n",
    "\n",
    "Support vectors \n"
   ]
  },
  {
   "cell_type": "markdown",
   "metadata": {},
   "source": [
    "### Implementation: Model Tuning\n",
    "Fine tune the chosen model. Use grid search (`GridSearchCV`) with at least one important parameter tuned with at least 3 different values. You will need to use the entire training set for this. In the code cell below, you will need to implement the following:\n",
    "- Import [`sklearn.grid_search.GridSearchCV`](http://scikit-learn.org/0.17/modules/generated/sklearn.grid_search.GridSearchCV.html) and [`sklearn.metrics.make_scorer`](http://scikit-learn.org/stable/modules/generated/sklearn.metrics.make_scorer.html).\n",
    "- Create a dictionary of parameters you wish to tune for the chosen model.\n",
    " - Example: `parameters = {'parameter' : [list of values]}`.\n",
    "- Initialize the classifier you've chosen and store it in `clf`.\n",
    "- Create the F<sub>1</sub> scoring function using `make_scorer` and store it in `f1_scorer`.\n",
    " - Set the `pos_label` parameter to the correct value!\n",
    "- Perform grid search on the classifier `clf` using `f1_scorer` as the scoring method, and store it in `grid_obj`.\n",
    "- Fit the grid search object to the training data (`X_train`, `y_train`), and store it in `grid_obj`."
   ]
  },
  {
   "cell_type": "code",
   "execution_count": null,
   "metadata": {},
   "outputs": [],
   "source": [
    "# TODO: Import 'GridSearchCV' and 'make_scorer'\n",
    "from sklearn import model_selection\n",
    "from sklearn import metrics\n",
    "from sklearn import svm\n",
    "\n",
    "# TODO: Create the parameters list you wish to tune\n",
    "parameters = [\n",
    "  {'C': [1, 10, 100, 1000], 'kernel': ['linear']},\n",
    "  {'C': [1, 10, 100, 1000], 'gamma': [0.001, 0.0001], 'kernel': ['rbf']},\n",
    " ]\n",
    "\n",
    "# TODO: Initialize the classifier\n",
    "clf = svm.SVC(random_state=0)\n",
    "\n",
    "# TODO: Make an f1 scoring function using 'make_scorer' \n",
    "f1_scorer =  metrics.make_scorer(metrics.f1_score,pos_label=0)\n",
    "\n",
    "# TODO: Perform grid search on the classifier using the f1_scorer as the scoring method\n",
    "grid_obj = model_selection.GridSearchCV(clf, param_grid=parameters,scoring=f1_scorer)\n",
    "\n",
    "# TODO: Fit the grid search object to the training data and find the optimal parameters\n",
    "grid_obj = grid_obj.fit(X_train, y_train)\n",
    "\n",
    "# Get the estimator\n",
    "clf = grid_obj.best_estimator_\n",
    "\n",
    "\n",
    "# Report the final F1 score for training and testing after parameter tuning\n",
    "print (\"Tuned model has a training F1 score of {:.4f}.\".format(predict_labels(clf, X_train, y_train)))\n",
    "print (\"Tuned model has a testing F1 score of {:.4f}.\".format(predict_labels(clf, X_test, y_test)))"
   ]
  },
  {
   "cell_type": "code",
   "execution_count": null,
   "metadata": {
    "collapsed": true
   },
   "outputs": [],
   "source": [
    "import seaborn as sns # Install using 'pip install seaborn'\n",
    "from sklearn.metrics import confusion_matrix\n",
    "import matplotlib.pyplot as plt\n",
    "%matplotlib inline\n",
    "\n",
    "cm_test = confusion_matrix(y_test, clf.predict(X_test))\n",
    "\n",
    "plt.figure(figsize=(7,5))\n",
    "sns.heatmap(cm_test, annot=True, cmap='Greys', xticklabels=[0,1], yticklabels=[0,1])\n",
    "plt.title('Confusion Matrix for the Test Set')\n",
    "plt.ylabel('True')\n",
    "plt.xlabel('Predicted')"
   ]
  },
  {
   "cell_type": "markdown",
   "metadata": {},
   "source": [
    "### Question 5 - Final F<sub>1</sub> Score\n",
    "*What is the final model's F<sub>1</sub> score for training and testing? How does that score compare to the untuned model?*\n",
    "\n",
    "\n"
   ]
  },
  {
   "cell_type": "markdown",
   "metadata": {},
   "source": [
    "**Answer: ** Tuned model has a training F1 score of 0.8323.\n",
    "Tuned model has a testing F1 score of **0.7945**.\n",
    "\n",
    "The tuned model increase the accuracy of testing dataset in around 1.3%; Considering the total number of students it represents around 4 students that is a good achievement.I the other hand for the training dataset the accuracy decrease, meaning that the tuned models is more generalist."
   ]
  },
  {
   "cell_type": "markdown",
   "metadata": {},
   "source": [
    "> **Note**: Once you have completed all of the code implementations and successfully answered each question above, you may finalize your work by exporting the iPython Notebook as an HTML document. You can do this by using the menu above and navigating to  \n",
    "**File -> Download as -> HTML (.html)**. Include the finished document along with this notebook as your submission."
   ]
  }
 ],
 "metadata": {
  "kernelspec": {
   "display_name": "Python 3",
   "language": "python",
   "name": "python3"
  },
  "language_info": {
   "codemirror_mode": {
    "name": "ipython",
    "version": 3
   },
   "file_extension": ".py",
   "mimetype": "text/x-python",
   "name": "python",
   "nbconvert_exporter": "python",
   "pygments_lexer": "ipython3",
   "version": "3.6.2"
  }
 },
 "nbformat": 4,
 "nbformat_minor": 1
}
